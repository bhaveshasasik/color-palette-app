{
  "nbformat": 4,
  "nbformat_minor": 0,
  "metadata": {
    "colab": {
      "provenance": [],
      "authorship_tag": "ABX9TyNB7SyKzH0NHaIC/NKyQnzY",
      "include_colab_link": true
    },
    "kernelspec": {
      "name": "python3",
      "display_name": "Python 3"
    },
    "language_info": {
      "name": "python"
    }
  },
  "cells": [
    {
      "cell_type": "markdown",
      "metadata": {
        "id": "view-in-github",
        "colab_type": "text"
      },
      "source": [
        "<a href=\"https://colab.research.google.com/github/bhaveshasasik/color-palette-app/blob/main/cornerback_linebacker_impact_score.ipynb\" target=\"_parent\"><img src=\"https://colab.research.google.com/assets/colab-badge.svg\" alt=\"Open In Colab\"/></a>"
      ]
    },
    {
      "cell_type": "code",
      "execution_count": null,
      "metadata": {
        "id": "mTC0Qw68yNDY"
      },
      "outputs": [],
      "source": [
        "import numpy as np\n",
        "import pandas as pd\n",
        "import matplotlib as plt\n",
        "from sklearn.preprocessing import MinMaxScaler\n",
        "import os"
      ]
    },
    {
      "cell_type": "code",
      "source": [
        "data = pd.read_csv('cornerback_data1.csv')\n",
        "\n",
        "data = data[(data[\"Pos\"] == \"LB\") | (data[\"Pos\"] == \"C\")]\n",
        "\n",
        "\n",
        "\n",
        "#print(data.columns)\n",
        "print(data)"
      ],
      "metadata": {
        "colab": {
          "base_uri": "https://localhost:8080/"
        },
        "id": "V1tgXLtghjw9",
        "outputId": "c41583dd-c504-4aa7-f359-a6412272b432"
      },
      "execution_count": null,
      "outputs": [
        {
          "output_type": "stream",
          "name": "stdout",
          "text": [
            "        Rk             Player  Age Team Pos   G  GS  Int  Yds  IntTD  ...  FR  \\\n",
            "6        5      David Andrews   31  NWE   C  17  17    0    0      0  ...   1   \n",
            "8        7     Terrel Bernard   24  BUF  LB  17  17    3    2      0  ...   3   \n",
            "17      16       Damone Clark   23  DAL  LB  17  17    0    0      0  ...   1   \n",
            "19      18         Mason Cole   27  PIT   C  17  17    0    0      0  ...   0   \n",
            "20      19      Zaven Collins   24  ARI  LB  17  17    1    1      0  ...   1   \n",
            "...    ...                ...  ...  ...  ..  ..  ..  ...  ...    ...  ...  ..   \n",
            "1542  1463     Blake Martinez   29  PIT  LB   1   1    0    0      0  ...   0   \n",
            "1547  1468  Olakunle Fatukasi   24  LAR  LB   1   0    0    0      0  ...   0   \n",
            "1554  1475  Patrick O'Connell   24  SEA  LB   1   0    0    0      0  ...   0   \n",
            "1559  1480       Jaylon Smith   28  LVR  LB   1   0    0    0      0  ...   0   \n",
            "1560  1481       Tyreke Smith   23  SEA  LB   1   0    0    0      0  ...   0   \n",
            "\n",
            "      Yds.1  FRTD   Sk  Comb  Solo  Ast  TFL  QBHits  Sfty  \n",
            "6         0     0  0.0     0     0    0    0       0     0  \n",
            "8        -1     0  6.5   143    84   59   10       9     0  \n",
            "17        0     0  0.0   109    70   39    4       3     0  \n",
            "19        0     0  0.0     0     0    0    0       0     0  \n",
            "20        0     0  3.5    41    27   14    6       6     0  \n",
            "...     ...   ...  ...   ...   ...  ...  ...     ...   ...  \n",
            "1542      0     0  0.0     4     2    2    0       0     0  \n",
            "1547      0     0  0.0     1     0    1    0       0     0  \n",
            "1554      0     0  0.0     1     0    1    0       0     0  \n",
            "1559      0     0  0.0     2     2    0    0       0     0  \n",
            "1560      0     0  0.0     1     0    1    0       0     0  \n",
            "\n",
            "[239 rows x 24 columns]\n"
          ]
        }
      ]
    },
    {
      "cell_type": "code",
      "source": [
        "data[\"Interceptions_Per_Game\"] = data[\"Int\"] / data[\"G\"]\n",
        "data[\"Passes_Defended_Per_Game\"] = data[\"PD\"] / data[\"G\"]\n",
        "data[\"Forced_Fumbles_Per_Game\"] = data[\"FF\"] / data[\"G\"]\n",
        "data[\"Defensive_Touchdowns_Per_Game\"] = data[\"IntTD\"] / data[\"G\"]\n",
        "data[\"Yards_From_Interceptions_Per_Game\"] = (data[\"Yds\"] + data[\"Yds.1\"]) / data[\"G\"]\n",
        "data[\"Solo_Tackles_Per_Game\"] = data[\"Solo\"] / data[\"G\"]\n",
        "data[\"Assisted_Tackles_Per_Game\"] = data[\"Ast\"] / data[\"G\"]\n",
        "data[\"Tackles_For_Loss_Per_Game\"] = data[\"TFL\"] / data[\"G\"]\n",
        "data[\"QB_Hits_Per_Game\"] = data[\"QBHits\"] / data[\"G\"]"
      ],
      "metadata": {
        "id": "rWsm7NRZiPq8"
      },
      "execution_count": null,
      "outputs": []
    },
    {
      "cell_type": "code",
      "source": [
        "metrics = [\"Interceptions_Per_Game\",\"Passes_Defended_Per_Game\", \"Solo_Tackles_Per_Game\", \"Forced_Fumbles_Per_Game\", \"Yards_From_Interceptions_Per_Game\"]"
      ],
      "metadata": {
        "id": "6ADLoaeanXc1"
      },
      "execution_count": null,
      "outputs": []
    },
    {
      "cell_type": "code",
      "source": [
        "scaler = MinMaxScaler()\n",
        "data[metrics] = scaler.fit_transform(data[metrics])"
      ],
      "metadata": {
        "id": "CDrREgTfoWMF"
      },
      "execution_count": null,
      "outputs": []
    },
    {
      "cell_type": "code",
      "source": [
        "data[\"Impact_Score\"] = (\n",
        "    0.25 * data[\"Interceptions_Per_Game\"] +        # Turnover ability\n",
        "    0.2 * data[\"Passes_Defended_Per_Game\"] +       # Coverage contribution\n",
        "    0.2 * data[\"Solo_Tackles_Per_Game\"] +          # Tackling reliability\n",
        "    0.15 * data[\"Forced_Fumbles_Per_Game\"] +       # Playmaking on forced fumbles\n",
        "    0.1 * data[\"Tackles_For_Loss_Per_Game\"] +      # Tackles behind the line\n",
        "    0.1 * data[\"QB_Hits_Per_Game\"]                 # Pressure on quarterback\n",
        ")"
      ],
      "metadata": {
        "id": "os6HDkRwrcLg"
      },
      "execution_count": null,
      "outputs": []
    },
    {
      "cell_type": "code",
      "source": [
        "top_players_per_team = (\n",
        "    data.sort_values(by=['Team', 'Impact_Score'], ascending=[True, False])\n",
        "    .groupby('Team')\n",
        "    .head(1)\n",
        ")"
      ],
      "metadata": {
        "id": "R3qQn0xYtQ-x"
      },
      "execution_count": null,
      "outputs": []
    },
    {
      "cell_type": "code",
      "source": [
        "print(\"Top Impactful Cornerbacks per Team in 2023 based on Combined Impact Score:\\n\")\n",
        "print(top_players_per_team[['Team', 'Player', 'Impact_Score']])"
      ],
      "metadata": {
        "colab": {
          "base_uri": "https://localhost:8080/"
        },
        "id": "EbKgb2rPta6L",
        "outputId": "8da0b89d-28d1-43c8-cd85-c04fa09c7931"
      },
      "execution_count": null,
      "outputs": [
        {
          "output_type": "stream",
          "name": "stdout",
          "text": [
            "Top Impactful Cornerbacks per Team in 2023 based on Combined Impact Score:\n",
            "\n",
            "     Team                   Player  Impact_Score\n",
            "634   2TM            Randy Gregory      0.145486\n",
            "1089  ARI              Kyzir White      0.385211\n",
            "557   ATL           Nathan Landman      0.364132\n",
            "533   BAL             Roquan Smith      0.438117\n",
            "1367  BUF              Matt Milano      0.601300\n",
            "970   CAR              Deion Jones      0.279807\n",
            "30    CHI             T.J. Edwards      0.515302\n",
            "139   CIN             Logan Wilson      0.547913\n",
            "566   CLE  Jeremiah Owusu-Koramoah      0.509864\n",
            "94    DAL            Micah Parsons      0.423225\n",
            "154   DEN           Alex Singleton      0.329792\n",
            "484   DET            Alex Anzalone      0.393538\n",
            "850   GNB              Quay Walker      0.322626\n",
            "572   HOU         Christian Harris      0.344223\n",
            "500   IND           Zaire Franklin      0.403409\n",
            "91    JAX         Foyesade Oluokun      0.470540\n",
            "1229  KAN              Nick Bolton      0.361090\n",
            "726   LAC           Kenneth Murray      0.354932\n",
            "720   LAR             Ernest Jones      0.404509\n",
            "114   LVR          Robert Spillane      0.415512\n",
            "1235  MIA          Jaelan Phillips      0.485071\n",
            "924   MIN             Jordan Hicks      0.384212\n",
            "541   NOR              Pete Werner      0.201780\n",
            "1421  NWE               Matt Judon      0.424766\n",
            "90    NYG            Bobby Okereke      0.611312\n",
            "159   NYJ          Quincy Williams      0.544531\n",
            "756   PHI          Nicholas Morrow      0.374619\n",
            "131   PIT                T.J. Watt      0.684308\n",
            "515   SEA                Boye Mafe      0.362580\n",
            "130   SFO              Fred Warner      0.650137\n",
            "708   TAM            Lavonte David      0.447828\n",
            "853   TEN             Jack Gibbens      0.219438\n",
            "919   WAS              Jamin Davis      0.404361\n"
          ]
        }
      ]
    },
    {
      "cell_type": "code",
      "source": [],
      "metadata": {
        "id": "T-yzc1ZCtpXR"
      },
      "execution_count": null,
      "outputs": []
    }
  ]
}